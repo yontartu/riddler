{
 "cells": [
  {
   "cell_type": "markdown",
   "metadata": {},
   "source": [
    "# Solution to \"The Imposible Puzzle\" from FiveThirtyEight"
   ]
  },
  {
   "cell_type": "code",
   "execution_count": 254,
   "metadata": {
    "collapsed": false
   },
   "outputs": [
    {
     "data": {
      "text/plain": [
       "array([18, 17, 16, 15, 14, 13, 12, 11, 10, 16, 15, 14, 13, 12, 11, 10,  9,\n",
       "       14, 13, 12, 11, 10,  9,  8, 12, 11, 10,  9,  8,  7, 10,  9,  8,  7,\n",
       "        6,  8,  7,  6,  5,  6,  5,  4,  4,  3,  2])"
      ]
     },
     "execution_count": 254,
     "metadata": {},
     "output_type": "execute_result"
    }
   ],
   "source": [
    "# Fill product and sum lists with elements\n",
    "\n",
    "import numpy as np\n",
    "\n",
    "product_list = []\n",
    "sum_list = []\n",
    "\n",
    "for e in [9,8,7,6,5,4,3,2,1]:\n",
    "    i = e\n",
    "    while i >= 1:\n",
    "        product_list.append(e*i)\n",
    "        sum_list.append(e+i)\n",
    "        i -= 1\n",
    "    \n",
    "product_list = np.array(product_list) # worked!\n",
    "sum_list = np.array(sum_list) # worked!\n",
    "\n",
    "product_list\n",
    "sum_list"
   ]
  },
  {
   "cell_type": "markdown",
   "metadata": {},
   "source": [
    "# Turn 1\n"
   ]
  },
  {
   "cell_type": "code",
   "execution_count": 255,
   "metadata": {
    "collapsed": false
   },
   "outputs": [
    {
     "name": "stdout",
     "output_type": "stream",
     "text": [
      "[81 72 63 54 45 36 27 18  9 64 56 48 40 32 24 16  8 49 42 35 28 21 14  7 36\n",
      " 30 24 18 12  6 25 20 15 10  5 16 12  8  4  9  6  3  4  2  1]\n",
      "[0, 0, 0, 0, 0, 36, 0, 18, 9, 0, 0, 0, 0, 0, 24, 16, 8, 0, 0, 0, 0, 0, 0, 0, 36, 0, 24, 18, 12, 6, 0, 0, 0, 0, 0, 16, 12, 8, 4, 9, 6, 0, 4, 0, 0]\n"
     ]
    }
   ],
   "source": [
    "### 1. Zero-out unique elements in product_list\n",
    "duplicates_product = []\n",
    "\n",
    "mask_list_product = np.ones(product_list.shape, dtype = bool)\n",
    "for e in enumerate(product_list):\n",
    "    mask_list_product[e[0]] = 0 # index of each element in the array, set that element in mask_list to False\n",
    "    if e[1] in product_list[mask_list_product]: # if e appears more than once in product_list\n",
    "        duplicates_product.append(e[1])\n",
    "    else: # e is unique to product_list\n",
    "        duplicates_product.append(0)\n",
    "    mask_list_product[e[0]] = 1    \n",
    "\n",
    "print product_list # Before\n",
    "print duplicates_product # After\n",
    "\n"
   ]
  },
  {
   "cell_type": "code",
   "execution_count": 256,
   "metadata": {
    "collapsed": false
   },
   "outputs": [
    {
     "name": "stdout",
     "output_type": "stream",
     "text": [
      "[18 17 16 15 14 13 12 11 10 16 15 14 13 12 11 10  9 14 13 12 11 10  9  8 12\n",
      " 11 10  9  8  7 10  9  8  7  6  8  7  6  5  6  5  4  4  3  2]\n",
      "[ 0  0  0  0  0 13  0 11 10  0  0  0  0  0 11 10  9  0  0  0  0  0  0  0 12\n",
      "  0 10  9  8  7  0  0  0  0  0  8  7  6  5  6  5  0  4  0  0]\n"
     ]
    }
   ],
   "source": [
    "### 2. Zero-out elements in sum_list corresponding to unique elements from product_list \n",
    "\n",
    "print sum_list # Before\n",
    "\n",
    "for x in enumerate(duplicates_product):\n",
    "    if x[1] == 0:\n",
    "        sum_list[x[0]] = 0\n",
    "\n",
    "print sum_list # After\n",
    "\n",
    "            \n"
   ]
  },
  {
   "cell_type": "code",
   "execution_count": 257,
   "metadata": {
    "collapsed": false,
    "scrolled": true
   },
   "outputs": [
    {
     "name": "stdout",
     "output_type": "stream",
     "text": [
      "[ 0  0  0  0  0 13  0 11 10  0  0  0  0  0 11 10  9  0  0  0  0  0  0  0 12\n",
      "  0 10  9  8  7  0  0  0  0  0  8  7  6  5  6  5  0  4  0  0]\n",
      "[0, 0, 0, 0, 0, 0, 0, 11, 10, 0, 0, 0, 0, 0, 11, 10, 9, 0, 0, 0, 0, 0, 0, 0, 0, 0, 10, 9, 8, 7, 0, 0, 0, 0, 0, 8, 7, 6, 5, 6, 5, 0, 0, 0, 0]\n",
      "[5, 24, 42]\n"
     ]
    }
   ],
   "source": [
    "### 3. Zero-out unique elements in sum_list \n",
    "\n",
    "duplicates_sum = []\n",
    "unique_element_positions = []\n",
    "\n",
    "mask_list_sum = np.ones(sum_list.shape, dtype = bool)\n",
    "for e in enumerate(sum_list):\n",
    "    if e[1] == 0:\n",
    "        duplicates_sum.append(0)\n",
    "    else: \n",
    "        mask_list_sum[e[0]] = 0 # index of each element in the array, set that element in mask_list to False\n",
    "        if e[1] in sum_list[mask_list_sum]: # if e appears more than once in sum_list\n",
    "            duplicates_sum.append(e[1])\n",
    "        else: # e is unique to sum_list\n",
    "            duplicates_sum.append(0)\n",
    "            unique_element_positions.append(e[0])\n",
    "        mask_list_sum[e[0]] = 1\n",
    "\n",
    "print sum_list # Before\n",
    "print duplicates_sum # After\n",
    "print unique_element_positions"
   ]
  },
  {
   "cell_type": "code",
   "execution_count": 258,
   "metadata": {
    "collapsed": false
   },
   "outputs": [
    {
     "name": "stdout",
     "output_type": "stream",
     "text": [
      "[0, 0, 0, 0, 0, 36, 0, 18, 9, 0, 0, 0, 0, 0, 24, 16, 8, 0, 0, 0, 0, 0, 0, 0, 36, 0, 24, 18, 12, 6, 0, 0, 0, 0, 0, 16, 12, 8, 4, 9, 6, 0, 4, 0, 0]\n",
      "[0, 0, 0, 0, 0, 0, 0, 18, 9, 0, 0, 0, 0, 0, 24, 16, 8, 0, 0, 0, 0, 0, 0, 0, 0, 0, 24, 18, 12, 6, 0, 0, 0, 0, 0, 16, 12, 8, 4, 9, 6, 0, 0, 0, 0]\n"
     ]
    }
   ],
   "source": [
    "### 4. Zero-out elements in duplicates_product corresponding to unique elements from duplicates_sum\n",
    "\n",
    "print duplicates_product # Before\n",
    "\n",
    "for x in enumerate(duplicates_product):\n",
    "    for e in unique_element_positions:\n",
    "        if x[0] == e:\n",
    "            duplicates_product[e] = 0\n",
    "    \n",
    "print duplicates_product # After\n",
    "\n"
   ]
  },
  {
   "cell_type": "markdown",
   "metadata": {},
   "source": [
    "# Turn 2"
   ]
  },
  {
   "cell_type": "code",
   "execution_count": 259,
   "metadata": {
    "collapsed": false
   },
   "outputs": [
    {
     "name": "stdout",
     "output_type": "stream",
     "text": [
      "[ 0  0  0  0  0  0  0 18  9  0  0  0  0  0 24 16  8  0  0  0  0  0  0  0  0\n",
      "  0 24 18 12  6  0  0  0  0  0 16 12  8  4  9  6  0  0  0  0]\n",
      "\n",
      "[ 0  0  0  0  0  0  0 11 10  0  0  0  0  0 11 10  9  0  0  0  0  0  0  0  0\n",
      "  0 10  9  8  7  0  0  0  0  0  8  7  6  5  6  5  0  0  0  0]\n"
     ]
    }
   ],
   "source": [
    "# These are the lists to use for turn 2's computations:\n",
    "\n",
    "duplicates_product = np.array(duplicates_product)\n",
    "duplicates_sum = np.array(duplicates_sum)\n",
    "\n",
    "duplicates_product2 = duplicates_product\n",
    "duplicates_sum2 = duplicates_sum\n",
    "\n",
    "print duplicates_product2\n",
    "print \"\"\n",
    "print duplicates_sum2"
   ]
  },
  {
   "cell_type": "code",
   "execution_count": 260,
   "metadata": {
    "collapsed": false
   },
   "outputs": [
    {
     "name": "stdout",
     "output_type": "stream",
     "text": [
      "[ 0  0  0  0  0  0  0 18  9  0  0  0  0  0 24 16  8  0  0  0  0  0  0  0  0\n",
      "  0 24 18 12  6  0  0  0  0  0 16 12  8  4  9  6  0  0  0  0]\n",
      "\n",
      "[ 0  0  0  0  0  0  0 18  9  0  0  0  0  0 24 16  8  0  0  0  0  0  0  0  0\n",
      "  0 24 18 12  6  0  0  0  0  0 16 12  8  0  9  6  0  0  0  0]\n"
     ]
    }
   ],
   "source": [
    "### 1. Zero-out unique elements in duplicates_product\n",
    "\n",
    "print duplicates_product # Before\n",
    "print \"\"\n",
    "\n",
    "mask_list = np.ones(duplicates_product2.shape, dtype = bool)\n",
    "for e in enumerate(duplicates_product2):\n",
    "    if e[1] == 0:\n",
    "        continue\n",
    "    else: \n",
    "        mask_list[e[0]] = 0 \n",
    "        if e[1] in duplicates_product2[mask_list]: \n",
    "            mask_list[e[0]] = 1\n",
    "            continue\n",
    "        else:\n",
    "            duplicates_product2[e[0]] = 0\n",
    "        mask_list[e[0]] = 1\n",
    "\n",
    "print duplicates_product2 # After\n",
    "\n"
   ]
  },
  {
   "cell_type": "code",
   "execution_count": 261,
   "metadata": {
    "collapsed": false
   },
   "outputs": [
    {
     "name": "stdout",
     "output_type": "stream",
     "text": [
      "[ 0  0  0  0  0  0  0 11 10  0  0  0  0  0 11 10  9  0  0  0  0  0  0  0  0\n",
      "  0 10  9  8  7  0  0  0  0  0  8  7  6  5  6  5  0  0  0  0]\n",
      "\n",
      "[ 0  0  0  0  0  0  0 11 10  0  0  0  0  0 11 10  9  0  0  0  0  0  0  0  0\n",
      "  0 10  9  8  7  0  0  0  0  0  8  7  6  0  6  5  0  0  0  0]\n"
     ]
    }
   ],
   "source": [
    "### 2. Zero-out elements in duplicates_sum corresponding to unique elements from duplicates_product2 \n",
    "\n",
    "print duplicates_sum # Before\n",
    "print \"\"\n",
    "\n",
    "for x in enumerate(duplicates_product2):\n",
    "    if x[1] == 0:\n",
    "        duplicates_sum2[x[0]] = 0\n",
    "\n",
    "print duplicates_sum2 # After"
   ]
  },
  {
   "cell_type": "code",
   "execution_count": 262,
   "metadata": {
    "collapsed": false
   },
   "outputs": [
    {
     "name": "stdout",
     "output_type": "stream",
     "text": [
      "[ 0  0  0  0  0  0  0 11 10  0  0  0  0  0 11 10  9  0  0  0  0  0  0  0  0\n",
      "  0 10  9  8  7  0  0  0  0  0  8  7  6  0  6  5  0  0  0  0]\n",
      "\n",
      "[ 0  0  0  0  0  0  0 11 10  0  0  0  0  0 11 10  9  0  0  0  0  0  0  0  0\n",
      "  0 10  9  8  7  0  0  0  0  0  8  7  6  0  6  0  0  0  0  0]\n",
      "[40]\n"
     ]
    }
   ],
   "source": [
    "### 3. Zero-out unique elements in duplicates_sum \n",
    "\n",
    "print duplicates_sum # Before\n",
    "print \"\"\n",
    "\n",
    "unique_element_positions = []\n",
    "\n",
    "mask_list = np.ones(duplicates_sum2.shape, dtype = bool)\n",
    "for e in enumerate(duplicates_sum2):\n",
    "    if e[1] == 0:\n",
    "        continue\n",
    "    else: \n",
    "        mask_list[e[0]] = 0 \n",
    "        if e[1] in duplicates_sum2[mask_list]: \n",
    "            mask_list[e[0]] = 1\n",
    "            continue\n",
    "        else:\n",
    "            duplicates_sum2[e[0]] = 0\n",
    "            unique_element_positions.append(e[0])\n",
    "        mask_list[e[0]] = 1\n",
    "\n",
    "print duplicates_sum2 # After\n",
    "print unique_element_positions\n"
   ]
  },
  {
   "cell_type": "code",
   "execution_count": 263,
   "metadata": {
    "collapsed": false
   },
   "outputs": [
    {
     "name": "stdout",
     "output_type": "stream",
     "text": [
      "[ 0  0  0  0  0  0  0 18  9  0  0  0  0  0 24 16  8  0  0  0  0  0  0  0  0\n",
      "  0 24 18 12  6  0  0  0  0  0 16 12  8  0  9  6  0  0  0  0]\n",
      "[ 0  0  0  0  0  0  0 18  9  0  0  0  0  0 24 16  8  0  0  0  0  0  0  0  0\n",
      "  0 24 18 12  6  0  0  0  0  0 16 12  8  0  9  0  0  0  0  0]\n"
     ]
    }
   ],
   "source": [
    "### 4. Zero-out elements in duplicates_product2 corresponding to unique elements from duplicates_sum2\n",
    "\n",
    "print duplicates_product2 # Before\n",
    "\n",
    "for x in enumerate(duplicates_product2):\n",
    "    for e in unique_element_positions:\n",
    "        if x[0] == e:\n",
    "            duplicates_product2[e] = 0\n",
    "\n",
    "print duplicates_product2 # After\n"
   ]
  },
  {
   "cell_type": "markdown",
   "metadata": {},
   "source": [
    "# Turn 3"
   ]
  },
  {
   "cell_type": "code",
   "execution_count": 264,
   "metadata": {
    "collapsed": false
   },
   "outputs": [
    {
     "name": "stdout",
     "output_type": "stream",
     "text": [
      "[ 0  0  0  0  0  0  0 18  9  0  0  0  0  0 24 16  8  0  0  0  0  0  0  0  0\n",
      "  0 24 18 12  6  0  0  0  0  0 16 12  8  0  9  0  0  0  0  0]\n",
      "\n",
      "[ 0  0  0  0  0  0  0 11 10  0  0  0  0  0 11 10  9  0  0  0  0  0  0  0  0\n",
      "  0 10  9  8  7  0  0  0  0  0  8  7  6  0  6  0  0  0  0  0]\n"
     ]
    }
   ],
   "source": [
    "# These are the lists to use for turn 3's computations:\n",
    "\n",
    "duplicates_product3 = duplicates_product2\n",
    "duplicates_sum3 = duplicates_sum2\n",
    "\n",
    "print duplicates_product3\n",
    "print \"\"\n",
    "print duplicates_sum3"
   ]
  },
  {
   "cell_type": "code",
   "execution_count": 265,
   "metadata": {
    "collapsed": false
   },
   "outputs": [
    {
     "name": "stdout",
     "output_type": "stream",
     "text": [
      "[ 0  0  0  0  0  0  0 18  9  0  0  0  0  0 24 16  8  0  0  0  0  0  0  0  0\n",
      "  0 24 18 12  6  0  0  0  0  0 16 12  8  0  9  0  0  0  0  0]\n",
      "\n",
      "[ 0  0  0  0  0  0  0 18  9  0  0  0  0  0 24 16  8  0  0  0  0  0  0  0  0\n",
      "  0 24 18 12  0  0  0  0  0  0 16 12  8  0  9  0  0  0  0  0]\n"
     ]
    }
   ],
   "source": [
    "### 1. Zero-out unique elements in duplicates_product2\n",
    "\n",
    "print duplicates_product2 # Before\n",
    "print \"\"\n",
    "\n",
    "mask_list = np.ones(duplicates_product3.shape, dtype = bool)\n",
    "for e in enumerate(duplicates_product3):\n",
    "    if e[1] == 0:\n",
    "        continue\n",
    "    else: \n",
    "        mask_list[e[0]] = 0 \n",
    "        if e[1] in duplicates_product3[mask_list]: \n",
    "            mask_list[e[0]] = 1\n",
    "            continue\n",
    "        else:\n",
    "            duplicates_product3[e[0]] = 0\n",
    "        mask_list[e[0]] = 1\n",
    "\n",
    "print duplicates_product3 # After\n",
    "\n"
   ]
  },
  {
   "cell_type": "code",
   "execution_count": 266,
   "metadata": {
    "collapsed": false
   },
   "outputs": [
    {
     "name": "stdout",
     "output_type": "stream",
     "text": [
      "[ 0  0  0  0  0  0  0 11 10  0  0  0  0  0 11 10  9  0  0  0  0  0  0  0  0\n",
      "  0 10  9  8  7  0  0  0  0  0  8  7  6  0  6  0  0  0  0  0]\n",
      "\n",
      "[ 0  0  0  0  0  0  0 11 10  0  0  0  0  0 11 10  9  0  0  0  0  0  0  0  0\n",
      "  0 10  9  8  0  0  0  0  0  0  8  7  6  0  6  0  0  0  0  0]\n"
     ]
    }
   ],
   "source": [
    "### 2. Zero-out elements in duplicates_sum2 corresponding to unique elements from duplicates_product3 \n",
    "\n",
    "print duplicates_sum2 # Before\n",
    "print \"\"\n",
    "\n",
    "for x in enumerate(duplicates_product3):\n",
    "    if x[1] == 0:\n",
    "        duplicates_sum3[x[0]] = 0\n",
    "\n",
    "print duplicates_sum3 # After"
   ]
  },
  {
   "cell_type": "code",
   "execution_count": 267,
   "metadata": {
    "collapsed": false
   },
   "outputs": [
    {
     "name": "stdout",
     "output_type": "stream",
     "text": [
      "[ 0  0  0  0  0  0  0 11 10  0  0  0  0  0 11 10  9  0  0  0  0  0  0  0  0\n",
      "  0 10  9  8  0  0  0  0  0  0  8  7  6  0  6  0  0  0  0  0]\n",
      "\n",
      "[ 0  0  0  0  0  0  0 11 10  0  0  0  0  0 11 10  9  0  0  0  0  0  0  0  0\n",
      "  0 10  9  8  0  0  0  0  0  0  8  0  6  0  6  0  0  0  0  0]\n",
      "[36]\n"
     ]
    }
   ],
   "source": [
    "### 3. Zero-out unique elements in duplicates_sum2 \n",
    "\n",
    "print duplicates_sum2 # Before\n",
    "print \"\"\n",
    "\n",
    "unique_element_positions = []\n",
    "\n",
    "mask_list = np.ones(duplicates_sum3.shape, dtype = bool)\n",
    "for e in enumerate(duplicates_sum3):\n",
    "    if e[1] == 0:\n",
    "        continue\n",
    "    else: \n",
    "        mask_list[e[0]] = 0 \n",
    "        if e[1] in duplicates_sum3[mask_list]: \n",
    "            mask_list[e[0]] = 1\n",
    "            continue\n",
    "        else:\n",
    "            duplicates_sum3[e[0]] = 0\n",
    "            unique_element_positions.append(e[0])\n",
    "        mask_list[e[0]] = 1\n",
    "\n",
    "print duplicates_sum3 # After\n",
    "print unique_element_positions\n"
   ]
  },
  {
   "cell_type": "code",
   "execution_count": 268,
   "metadata": {
    "collapsed": false
   },
   "outputs": [
    {
     "name": "stdout",
     "output_type": "stream",
     "text": [
      "[ 0  0  0  0  0  0  0 18  9  0  0  0  0  0 24 16  8  0  0  0  0  0  0  0  0\n",
      "  0 24 18 12  0  0  0  0  0  0 16 12  8  0  9  0  0  0  0  0]\n",
      "[ 0  0  0  0  0  0  0 18  9  0  0  0  0  0 24 16  8  0  0  0  0  0  0  0  0\n",
      "  0 24 18 12  0  0  0  0  0  0 16  0  8  0  9  0  0  0  0  0]\n"
     ]
    }
   ],
   "source": [
    "### 4. Zero-out elements in duplicates_product3 corresponding to unique elements from duplicates_sum3\n",
    "\n",
    "print duplicates_product3 # Before\n",
    "\n",
    "for x in enumerate(duplicates_product3):\n",
    "    for e in unique_element_positions:\n",
    "        if x[0] == e:\n",
    "            duplicates_product3[e] = 0\n",
    "\n",
    "print duplicates_product3 # After\n"
   ]
  },
  {
   "cell_type": "markdown",
   "metadata": {},
   "source": [
    "# Turn 4"
   ]
  },
  {
   "cell_type": "code",
   "execution_count": 269,
   "metadata": {
    "collapsed": false
   },
   "outputs": [
    {
     "name": "stdout",
     "output_type": "stream",
     "text": [
      "[ 0  0  0  0  0  0  0 18  9  0  0  0  0  0 24 16  8  0  0  0  0  0  0  0  0\n",
      "  0 24 18 12  0  0  0  0  0  0 16  0  8  0  9  0  0  0  0  0]\n",
      "\n",
      "[ 0  0  0  0  0  0  0 11 10  0  0  0  0  0 11 10  9  0  0  0  0  0  0  0  0\n",
      "  0 10  9  8  0  0  0  0  0  0  8  0  6  0  6  0  0  0  0  0]\n"
     ]
    }
   ],
   "source": [
    "# These are the lists to use for turn 4's computations:\n",
    "\n",
    "duplicates_product4 = duplicates_product3\n",
    "duplicates_sum4 = duplicates_sum3\n",
    "\n",
    "print duplicates_product4\n",
    "print \"\"\n",
    "print duplicates_sum4"
   ]
  },
  {
   "cell_type": "code",
   "execution_count": 270,
   "metadata": {
    "collapsed": false
   },
   "outputs": [
    {
     "name": "stdout",
     "output_type": "stream",
     "text": [
      "[ 0  0  0  0  0  0  0 18  9  0  0  0  0  0 24 16  8  0  0  0  0  0  0  0  0\n",
      "  0 24 18 12  0  0  0  0  0  0 16  0  8  0  9  0  0  0  0  0]\n",
      "\n",
      "[ 0  0  0  0  0  0  0 18  9  0  0  0  0  0 24 16  8  0  0  0  0  0  0  0  0\n",
      "  0 24 18  0  0  0  0  0  0  0 16  0  8  0  9  0  0  0  0  0]\n"
     ]
    }
   ],
   "source": [
    "### 1. Zero-out unique elements in duplicates_product3\n",
    "\n",
    "print duplicates_product3 # Before\n",
    "print \"\"\n",
    "\n",
    "mask_list = np.ones(duplicates_product4.shape, dtype = bool)\n",
    "for e in enumerate(duplicates_product4):\n",
    "    if e[1] == 0:\n",
    "        continue\n",
    "    else: \n",
    "        mask_list[e[0]] = 0 \n",
    "        if e[1] in duplicates_product4[mask_list]: \n",
    "            mask_list[e[0]] = 1\n",
    "            continue\n",
    "        else:\n",
    "            duplicates_product4[e[0]] = 0\n",
    "        mask_list[e[0]] = 1\n",
    "\n",
    "print duplicates_product4 # After\n",
    "\n"
   ]
  },
  {
   "cell_type": "code",
   "execution_count": 271,
   "metadata": {
    "collapsed": false
   },
   "outputs": [
    {
     "name": "stdout",
     "output_type": "stream",
     "text": [
      "[ 0  0  0  0  0  0  0 11 10  0  0  0  0  0 11 10  9  0  0  0  0  0  0  0  0\n",
      "  0 10  9  8  0  0  0  0  0  0  8  0  6  0  6  0  0  0  0  0]\n",
      "\n",
      "[ 0  0  0  0  0  0  0 11 10  0  0  0  0  0 11 10  9  0  0  0  0  0  0  0  0\n",
      "  0 10  9  0  0  0  0  0  0  0  8  0  6  0  6  0  0  0  0  0]\n"
     ]
    }
   ],
   "source": [
    "### 2. Zero-out elements in duplicates_sum3 corresponding to unique elements from duplicates_product3 \n",
    "\n",
    "print duplicates_sum3 # Before\n",
    "print \"\"\n",
    "\n",
    "for x in enumerate(duplicates_product4):\n",
    "    if x[1] == 0:\n",
    "        duplicates_sum4[x[0]] = 0\n",
    "\n",
    "print duplicates_sum4 # After"
   ]
  },
  {
   "cell_type": "code",
   "execution_count": 272,
   "metadata": {
    "collapsed": false
   },
   "outputs": [
    {
     "name": "stdout",
     "output_type": "stream",
     "text": [
      "[ 0  0  0  0  0  0  0 11 10  0  0  0  0  0 11 10  9  0  0  0  0  0  0  0  0\n",
      "  0 10  9  0  0  0  0  0  0  0  8  0  6  0  6  0  0  0  0  0]\n",
      "\n",
      "[ 0  0  0  0  0  0  0 11 10  0  0  0  0  0 11 10  9  0  0  0  0  0  0  0  0\n",
      "  0 10  9  0  0  0  0  0  0  0  0  0  6  0  6  0  0  0  0  0]\n",
      "[35]\n"
     ]
    }
   ],
   "source": [
    "### 3. Zero-out unique elements in duplicates_sum3 \n",
    "\n",
    "print duplicates_sum3 # Before\n",
    "print \"\"\n",
    "\n",
    "unique_element_positions = []\n",
    "\n",
    "mask_list = np.ones(duplicates_sum4.shape, dtype = bool)\n",
    "for e in enumerate(duplicates_sum4):\n",
    "    if e[1] == 0:\n",
    "        continue\n",
    "    else: \n",
    "        mask_list[e[0]] = 0 \n",
    "        if e[1] in duplicates_sum4[mask_list]: \n",
    "            mask_list[e[0]] = 1\n",
    "            continue\n",
    "        else:\n",
    "            duplicates_sum4[e[0]] = 0\n",
    "            unique_element_positions.append(e[0])\n",
    "        mask_list[e[0]] = 1\n",
    "\n",
    "print duplicates_sum4 # After\n",
    "print unique_element_positions\n"
   ]
  },
  {
   "cell_type": "code",
   "execution_count": 273,
   "metadata": {
    "collapsed": false
   },
   "outputs": [
    {
     "name": "stdout",
     "output_type": "stream",
     "text": [
      "[ 0  0  0  0  0  0  0 18  9  0  0  0  0  0 24 16  8  0  0  0  0  0  0  0  0\n",
      "  0 24 18  0  0  0  0  0  0  0 16  0  8  0  9  0  0  0  0  0]\n",
      "[ 0  0  0  0  0  0  0 18  9  0  0  0  0  0 24 16  8  0  0  0  0  0  0  0  0\n",
      "  0 24 18  0  0  0  0  0  0  0  0  0  8  0  9  0  0  0  0  0]\n"
     ]
    }
   ],
   "source": [
    "### 4. Zero-out elements in duplicates_product4 corresponding to unique elements from duplicates_sum4\n",
    "\n",
    "print duplicates_product4 # Before\n",
    "\n",
    "for x in enumerate(duplicates_product4):\n",
    "    for e in unique_element_positions:\n",
    "        if x[0] == e:\n",
    "            duplicates_product4[e] = 0\n",
    "\n",
    "print duplicates_product4 # After\n"
   ]
  },
  {
   "cell_type": "markdown",
   "metadata": {},
   "source": [
    "# Beginning of Turn 5"
   ]
  },
  {
   "cell_type": "code",
   "execution_count": 274,
   "metadata": {
    "collapsed": false
   },
   "outputs": [
    {
     "name": "stdout",
     "output_type": "stream",
     "text": [
      "[ 0  0  0  0  0  0  0 18  9  0  0  0  0  0 24 16  8  0  0  0  0  0  0  0  0\n",
      "  0 24 18  0  0  0  0  0  0  0  0  0  8  0  9  0  0  0  0  0]\n",
      "[ 0  0  0  0  0  0  0 11 10  0  0  0  0  0 11 10  9  0  0  0  0  0  0  0  0\n",
      "  0 10  9  0  0  0  0  0  0  0  0  0  6  0  6  0  0  0  0  0]\n"
     ]
    }
   ],
   "source": [
    "''' At this point, we need to identify the sole unique element in duplicates_product4 and determine its position in the \n",
    "list to identify its two factors...\n",
    "'''\n",
    "\n",
    "print duplicates_product4 \n",
    "print duplicates_sum4 \n",
    "\n",
    "# The unique element is 16 in duplicates_product4"
   ]
  },
  {
   "cell_type": "code",
   "execution_count": 277,
   "metadata": {
    "collapsed": false
   },
   "outputs": [
    {
     "name": "stdout",
     "output_type": "stream",
     "text": [
      "Position:  15\n",
      "Element:  16\n"
     ]
    }
   ],
   "source": [
    "# Identify the position in duplicates_product4 of the unique element, 16\n",
    "\n",
    "position = 0\n",
    "element = 0\n",
    "\n",
    "mask_list = np.ones(duplicates_product4.shape, dtype = bool)\n",
    "for e in enumerate(duplicates_product4):\n",
    "    if e[1] == 0:\n",
    "        continue\n",
    "    else: \n",
    "        mask_list[e[0]] = 0 \n",
    "        if e[1] in duplicates_product4[mask_list]: # duplicate element\n",
    "            mask_list[e[0]] = 1\n",
    "            continue\n",
    "        else: # unique element\n",
    "            position = e[0]\n",
    "            element = e[1]\n",
    "        mask_list[e[0]] = 1\n",
    "\n",
    "print \"Position: \", position\n",
    "print \"Element: \", element"
   ]
  },
  {
   "cell_type": "code",
   "execution_count": 333,
   "metadata": {
    "collapsed": false
   },
   "outputs": [
    {
     "name": "stdout",
     "output_type": "stream",
     "text": [
      "    9   8   7   6   5   4   3   2   1\n",
      "1   9   8   7   6   5   4   3   2   1\n",
      "2  18  16  14  12  10   8   6   4 NaN\n",
      "3  27  24  21  18  15  12   9 NaN NaN\n",
      "4  36  32  28  24  20  16 NaN NaN NaN\n",
      "5  45  40  35  30  25 NaN NaN NaN NaN\n",
      "6  54  48  42  36 NaN NaN NaN NaN NaN\n",
      "7  63  56  49 NaN NaN NaN NaN NaN NaN\n",
      "8  72  64 NaN NaN NaN NaN NaN NaN NaN\n",
      "9  81 NaN NaN NaN NaN NaN NaN NaN NaN\n"
     ]
    }
   ],
   "source": [
    "# Populate the product and sum matrices to find the two factors\n",
    "\n",
    "import pandas as pd\n",
    "\n",
    "product_df = pd.DataFrame(\n",
    "    data=[[9,8,7,6,5,4,3,2,1],\n",
    "          [18,16,14,12,10,8,6,4],\n",
    "          [27,24,21,18,15,12,9],\n",
    "          [36,32,28,24,20,16],\n",
    "          [45,40,35,30,25],\n",
    "          [54,48,42,36],\n",
    "          [63,56,49],\n",
    "          [72,64],\n",
    "          [81]],\n",
    "    index = [1,2,3,4,5,6,7,8,9],\n",
    "    columns = [9,8,7,6,5,4,3,2,1]\n",
    ")\n",
    "\n",
    "product_df\n",
    "\n",
    "sum_df = pd.DataFrame(\n",
    "    data=[[10,9,8,7,6,5,4,3,2],\n",
    "          [11,10,9,8,7,6,5,4],\n",
    "          [12,11,10,9,8,7,6],\n",
    "          [13,12,11,10,9,8],\n",
    "          [14,13,12,11,10],\n",
    "          [15,14,13,12],\n",
    "          [16,15,14],\n",
    "          [17,16],\n",
    "          [18]],\n",
    "    index = [1,2,3,4,5,6,7,8,9],\n",
    "    columns = [9,8,7,6,5,4,3,2,1]\n",
    ")\n",
    "\n",
    "print product_df\n"
   ]
  },
  {
   "cell_type": "code",
   "execution_count": 367,
   "metadata": {
    "collapsed": false
   },
   "outputs": [
    {
     "ename": "IndexError",
     "evalue": "index 9 is out of bounds for axis 0 with size 9",
     "output_type": "error",
     "traceback": [
      "\u001b[0;31m---------------------------------------------------------------------------\u001b[0m",
      "\u001b[0;31mIndexError\u001b[0m                                Traceback (most recent call last)",
      "\u001b[0;32m<ipython-input-367-4b9cd0dbab63>\u001b[0m in \u001b[0;36m<module>\u001b[0;34m()\u001b[0m\n\u001b[1;32m     26\u001b[0m \u001b[0;34m\u001b[0m\u001b[0m\n\u001b[1;32m     27\u001b[0m \u001b[0mb\u001b[0m \u001b[0;34m=\u001b[0m \u001b[0mproduct_df\u001b[0m\u001b[0;34m.\u001b[0m\u001b[0miloc\u001b[0m\u001b[0;34m[\u001b[0m\u001b[0;36m5\u001b[0m\u001b[0;34m]\u001b[0m \u001b[0;34m==\u001b[0m \u001b[0;36m81\u001b[0m\u001b[0;34m\u001b[0m\u001b[0m\n\u001b[0;32m---> 28\u001b[0;31m \u001b[0;32mprint\u001b[0m \u001b[0mb\u001b[0m\u001b[0;34m.\u001b[0m\u001b[0mindex\u001b[0m\u001b[0;34m[\u001b[0m\u001b[0mb\u001b[0m\u001b[0;34m.\u001b[0m\u001b[0margmax\u001b[0m\u001b[0;34m(\u001b[0m\u001b[0;34m)\u001b[0m\u001b[0;34m]\u001b[0m\u001b[0;34m\u001b[0m\u001b[0m\n\u001b[0m",
      "\u001b[0;32m//anaconda/lib/python2.7/site-packages/pandas/core/index.pyc\u001b[0m in \u001b[0;36m__getitem__\u001b[0;34m(self, key)\u001b[0m\n\u001b[1;32m   1147\u001b[0m \u001b[0;34m\u001b[0m\u001b[0m\n\u001b[1;32m   1148\u001b[0m         \u001b[0;32mif\u001b[0m \u001b[0mnp\u001b[0m\u001b[0;34m.\u001b[0m\u001b[0misscalar\u001b[0m\u001b[0;34m(\u001b[0m\u001b[0mkey\u001b[0m\u001b[0;34m)\u001b[0m\u001b[0;34m:\u001b[0m\u001b[0;34m\u001b[0m\u001b[0m\n\u001b[0;32m-> 1149\u001b[0;31m             \u001b[0;32mreturn\u001b[0m \u001b[0mgetitem\u001b[0m\u001b[0;34m(\u001b[0m\u001b[0mkey\u001b[0m\u001b[0;34m)\u001b[0m\u001b[0;34m\u001b[0m\u001b[0m\n\u001b[0m\u001b[1;32m   1150\u001b[0m \u001b[0;34m\u001b[0m\u001b[0m\n\u001b[1;32m   1151\u001b[0m         \u001b[0;32mif\u001b[0m \u001b[0misinstance\u001b[0m\u001b[0;34m(\u001b[0m\u001b[0mkey\u001b[0m\u001b[0;34m,\u001b[0m \u001b[0mslice\u001b[0m\u001b[0;34m)\u001b[0m\u001b[0;34m:\u001b[0m\u001b[0;34m\u001b[0m\u001b[0m\n",
      "\u001b[0;31mIndexError\u001b[0m: index 9 is out of bounds for axis 0 with size 9"
     ]
    }
   ],
   "source": [
    "# Taking the cell value as a parameter, this function prints out the two natural numbers!\n",
    "\n",
    "first = 0\n",
    "second = 0\n",
    "row = []\n",
    "\n",
    "def get_factors(element):\n",
    "    #for column\n",
    "    for i in range(0,len(product_df)):\n",
    "        for entry in product_df.iloc[i]:\n",
    "            if entry == element:\n",
    "                first = i+1\n",
    "                row = product_df.iloc[i]\n",
    "    \n",
    "    return row\n",
    "\n",
    "#print get_factors(81)\n",
    "\n",
    "#print product_df.iloc[8][9]\n",
    "\n",
    "#def get_col_name(row):    \n",
    "#    b = (product_df.ix[row.name] == row['value'])\n",
    "#    return b.index[b.argmax()]\n",
    "\n",
    "#print get_col_name(product_df.iloc[8])\n",
    "\n",
    "b = product_df.iloc[5] == 81\n",
    "print b.index[b.argmax()]"
   ]
  },
  {
   "cell_type": "code",
   "execution_count": 317,
   "metadata": {
    "collapsed": false
   },
   "outputs": [
    {
     "name": "stdout",
     "output_type": "stream",
     "text": [
      "    9   8   7   6   5   4   3   2   1\n",
      "1  10   9   8   7   6   5   4   3   2\n",
      "2  11  10   9   8   7   6   5   4 NaN\n",
      "3  12  11  10   9   8   7   6 NaN NaN\n",
      "4  13  12  11  10   9   8 NaN NaN NaN\n",
      "5  14  13  12  11  10 NaN NaN NaN NaN\n",
      "6  15  14  13  12 NaN NaN NaN NaN NaN\n",
      "7  16  15  14 NaN NaN NaN NaN NaN NaN\n",
      "8  17  16 NaN NaN NaN NaN NaN NaN NaN\n",
      "9  18 NaN NaN NaN NaN NaN NaN NaN NaN\n"
     ]
    },
    {
     "ename": "AttributeError",
     "evalue": "'numpy.float64' object has no attribute 'column'",
     "output_type": "error",
     "traceback": [
      "\u001b[0;31m---------------------------------------------------------------------------\u001b[0m",
      "\u001b[0;31mAttributeError\u001b[0m                            Traceback (most recent call last)",
      "\u001b[0;32m<ipython-input-317-bdf1fbea2984>\u001b[0m in \u001b[0;36m<module>\u001b[0;34m()\u001b[0m\n\u001b[1;32m     32\u001b[0m \u001b[0;34m\u001b[0m\u001b[0m\n\u001b[1;32m     33\u001b[0m \u001b[0;32mprint\u001b[0m \u001b[0msum_df\u001b[0m\u001b[0;34m\u001b[0m\u001b[0m\n\u001b[0;32m---> 34\u001b[0;31m \u001b[0msum_df\u001b[0m\u001b[0;34m.\u001b[0m\u001b[0mloc\u001b[0m\u001b[0;34m[\u001b[0m\u001b[0;36m7\u001b[0m\u001b[0;34m,\u001b[0m\u001b[0;36m8\u001b[0m\u001b[0;34m]\u001b[0m\u001b[0;34m.\u001b[0m\u001b[0mcolumn\u001b[0m\u001b[0;34m(\u001b[0m\u001b[0;34m)\u001b[0m\u001b[0;34m\u001b[0m\u001b[0m\n\u001b[0m",
      "\u001b[0;31mAttributeError\u001b[0m: 'numpy.float64' object has no attribute 'column'"
     ]
    }
   ],
   "source": []
  },
  {
   "cell_type": "code",
   "execution_count": 309,
   "metadata": {
    "collapsed": false
   },
   "outputs": [],
   "source": [
    "#first_element = 0\n",
    "\n",
    "#product_df = pd.DataFrame(columns=[9,8,7,6,5,4,3,2,1], index=[1,2,3,4,5,6,7,8,9])\n",
    "\n",
    "#for i in product_df.index-1:\n",
    " #   product_df.loc[i] = [1,1,1,1,1,1,1,1,1]\n",
    "    #first_element = 9*(i+1)\n",
    "    #print range(first_element,0,-(i+1))\n",
    "    #product_df.loc[i] = [range(first_element,0,-(i+1))]\n",
    "\n",
    "#print product_df.index-1\n",
    "    \n",
    "#print product_df"
   ]
  },
  {
   "cell_type": "code",
   "execution_count": null,
   "metadata": {
    "collapsed": true
   },
   "outputs": [],
   "source": []
  }
 ],
 "metadata": {
  "kernelspec": {
   "display_name": "Python 2",
   "language": "python",
   "name": "python2"
  },
  "language_info": {
   "codemirror_mode": {
    "name": "ipython",
    "version": 2
   },
   "file_extension": ".py",
   "mimetype": "text/x-python",
   "name": "python",
   "nbconvert_exporter": "python",
   "pygments_lexer": "ipython2",
   "version": "2.7.11"
  }
 },
 "nbformat": 4,
 "nbformat_minor": 0
}
